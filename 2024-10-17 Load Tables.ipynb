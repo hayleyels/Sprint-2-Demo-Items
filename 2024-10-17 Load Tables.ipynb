{
 "cells": [
  {
   "cell_type": "code",
   "execution_count": 2,
   "id": "f2f63e81-5979-452d-8f44-bc8fdc226f46",
   "metadata": {},
   "outputs": [
    {
     "name": "stdout",
     "output_type": "stream",
     "text": [
      "Version:  0.3.02\n"
     ]
    }
   ],
   "source": [
    "from Game import *\n",
    "from Game.minimax import *\n",
    "from tqdm import tqdm"
   ]
  },
  {
   "cell_type": "markdown",
   "id": "76ed4a11-4387-4cfa-9cb3-6f59eff56397",
   "metadata": {},
   "source": [
    "# Connect 3"
   ]
  },
  {
   "cell_type": "code",
   "execution_count": 6,
   "id": "15cce4bc-b156-4ef5-b864-71b5dd1ebefe",
   "metadata": {},
   "outputs": [],
   "source": [
    "def initial_state():\n",
    "    return Board(4,5)\n",
    "\n",
    "def valid_moves(state,player):\n",
    "    moves=[]\n",
    "\n",
    "    for i in range(5):\n",
    "        if state[i]==0:\n",
    "            moves.append(i)\n",
    "\n",
    "    return moves\n",
    "\n",
    "def show_state(state,player):\n",
    "    print(state)\n",
    "\n",
    "def update_state(state,player,move):\n",
    "    if isinstance(move,int):\n",
    "        new_state=state\n",
    "\n",
    "        i=move+15\n",
    "\n",
    "        while new_state[i]!=0:\n",
    "            i-=5\n",
    "\n",
    "        new_state[i]=player\n",
    "\n",
    "    return new_state\n",
    "\n",
    "def win_status(state,player):\n",
    "    # 0  1  2  3  4 \n",
    "    # 5  6  7  8  9 \n",
    "    # 10 11 12 13 14 \n",
    "    # 15 16 17 18 19\n",
    "\n",
    "    if player==1:\n",
    "        other_player=2\n",
    "\n",
    "    else:\n",
    "        other_player=1\n",
    "\n",
    "    for row in state.rows(3):\n",
    "        if row==[player,player,player]:\n",
    "            return \"win\"\n",
    "            \n",
    "    for col in state.cols(3):\n",
    "        if col==[player,player,player]:\n",
    "            return \"win\"\n",
    "\n",
    "    for diag in state.diags(3):\n",
    "        if diag==[player,player,player]:\n",
    "            return \"win\"\n",
    "\n",
    "    if not valid_moves(state,other_player):\n",
    "        return \"stalemate\"\n",
    "\n",
    "    return None"
   ]
  },
  {
   "cell_type": "markdown",
   "id": "efabe454-c742-4924-b827-898edf87b23c",
   "metadata": {},
   "source": [
    "## Agents"
   ]
  },
  {
   "cell_type": "code",
   "execution_count": 10,
   "id": "1db3cf83-493e-413f-8b6e-3fbee7a90c79",
   "metadata": {},
   "outputs": [],
   "source": [
    "def random_move(state,player):\n",
    "    moves=valid_moves(state,player)\n",
    "    return random.choice(moves)\n",
    "\n",
    "random_agent=Agent(random_move)\n",
    "\n",
    "def human_move(state,player):\n",
    "    while True:\n",
    "        move = int(input(\"What is your move? \"))\n",
    "\n",
    "        if move not in valid_moves(state,player):\n",
    "            print(\"Illegal move.\")\n",
    "        else:\n",
    "            break\n",
    "        \n",
    "    return move\n",
    "\n",
    "human_agent=Agent(human_move) "
   ]
  },
  {
   "cell_type": "code",
   "execution_count": 37,
   "id": "90b76bc1-36dd-43eb-b786-c5a934244a4f",
   "metadata": {},
   "outputs": [],
   "source": [
    "def minimax_move(state,player):\n",
    "    values,actions=minimax_values(state,player,maxdepth=5,display=False)\n",
    "    return top_choice(actions,values)\n",
    "minimax_agent=Agent(minimax_move)"
   ]
  },
  {
   "cell_type": "code",
   "execution_count": 16,
   "id": "3e3eadc9-7d08-4082-9f60-61fac0d4b574",
   "metadata": {},
   "outputs": [],
   "source": [
    "def first_move_heuristic(state,player):\n",
    "    if state[17]==0:\n",
    "        move=2\n",
    "        return move\n",
    "    else:\n",
    "        moves=valid_moves(state,player)\n",
    "        return random.choice(moves)\n",
    "\n",
    "smarter_agent=Agent(first_move_heuristic)"
   ]
  },
  {
   "cell_type": "markdown",
   "id": "ebdcb87e-a59e-4f88-8a1c-e701450a7def",
   "metadata": {},
   "source": [
    "### Skittles Agent"
   ]
  },
  {
   "cell_type": "code",
   "execution_count": 21,
   "id": "5b272c06-219d-4d02-9772-09048aaf7b78",
   "metadata": {},
   "outputs": [],
   "source": [
    "def skittles_move(state,player,info):\n",
    "    S=info.S\n",
    "    last_state=info.last_state\n",
    "    last_action=info.last_action\n",
    "    verbose=info.verbose\n",
    "\n",
    "    \n",
    "    if verbose:\n",
    "        print(\"\\t\",\"Player \",player,\" is thinking...\")\n",
    "        print(\"\\t\",\"State: \",state)\n",
    "        print(\"\\t\",\"Table:\",S)\n",
    "        print(\"\\t\",\"Last state,action: \",last_state,last_action)\n",
    "    \n",
    "    # make/adjust the table\n",
    "\n",
    "    if state not in S:\n",
    "        # add a row to the table for each move\n",
    "        S[state]=Table()\n",
    "        moves=valid_moves(state,player)\n",
    "        for action in moves:\n",
    "            S[state][action]=3  # number of skittles/beads for each move\n",
    "    \n",
    "        if verbose:\n",
    "            print(\"\\t\",\"State \",state,\"unknown...added to table\")\n",
    "            print(\"\\t\",\"Table\",S)\n",
    "    \n",
    "    move=weighted_choice(S[state])\n",
    "    if verbose:\n",
    "        print(\"\\t\",\"Choosing from S[\",state,\"]\",S[state],\"....Move: \",move)\n",
    "\n",
    "    if move is None:  # there are no skittles in this row\n",
    "        if last_state:\n",
    "            if verbose:\n",
    "                print(\"\\t\",\"No possible moves!\")\n",
    "                print(\"\\t\",\"Modifying the table: removing one skittle from (state,action) \",last_state,last_action)\n",
    "            S[last_state][last_action]=S[last_state][last_action]-1\n",
    "            \n",
    "            if verbose:\n",
    "                print(\"\\t\",\"Table:\",S)\n",
    "                \n",
    "            if S[last_state][last_action]<0:                \n",
    "                S[last_state][last_action]=0\n",
    "                if verbose:\n",
    "                    print(\"\\t\",\"Negative skittles...fixing.\")\n",
    "                    print(\"\\t\",\"Table:\",S)                \n",
    "        else:\n",
    "            if verbose:\n",
    "                print(\"\\t\",\"Started in a bad state \",state,\"with no moves and no last state.  Won't modify table.\")\n",
    "                  \n",
    "                  \n",
    "\n",
    "        move=random_move(state,player)\n",
    "\n",
    "    \n",
    "    return move\n",
    "\n",
    "def skittles_after(status,player,info):\n",
    "    S=info.S\n",
    "    last_state=info.last_state\n",
    "    last_action=info.last_action\n",
    "    verbose=info.verbose\n",
    "\n",
    "    if verbose:\n",
    "        print(\"\\t\",\"End of Game adjustments\")\n",
    "        print(\"\\t\",\"Player \",player,\" is thinking...\")\n",
    "        print(\"\\t\",\"Win Status: \",status)\n",
    "        print(\"\\t\",\"Table:\",S)\n",
    "        print(\"\\t\",\"Last state,action: \",last_state,last_action)\n",
    "        \n",
    "    if status=='lose':\n",
    "        if last_state:\n",
    "            S[last_state][last_action]=S[last_state][last_action]-1\n",
    "            if S[last_state][last_action]<0:\n",
    "                S[last_state][last_action]=0\n",
    "                \n",
    "            if verbose:\n",
    "                print(\"\\t\",\"Modifying the table: removing one skittle from (state,action) \",last_state,last_action)\n",
    "                print(\"\\t\",\"Table:\",S)\n",
    "\n",
    "                \n",
    "        else:\n",
    "            if verbose:\n",
    "                print(\"\\t\",\"No last state, so nothing to learn.\")\n",
    "            \n",
    "                \n",
    "    else:\n",
    "        if verbose:\n",
    "            print(\"\\t\",\"No adjustments needed.\")\n",
    "        \n",
    "    # does this double-count the learning if you lose on your own turn"
   ]
  },
  {
   "cell_type": "code",
   "execution_count": 24,
   "id": "549d25b7-8d28-425e-b12f-8b2e01e2c152",
   "metadata": {},
   "outputs": [],
   "source": [
    "skittles_agent1=Agent(skittles_move)\n",
    "skittles_agent1.S=Table()\n",
    "skittles_agent1.post=skittles_after\n",
    "skittles_agent1.verbose=False\n",
    "\n",
    "skittles_agent2=Agent(skittles_move)\n",
    "skittles_agent2.S=Table()\n",
    "skittles_agent2.post=skittles_after\n",
    "skittles_agent2.verbose=False"
   ]
  },
  {
   "cell_type": "markdown",
   "id": "2ee70595-df71-4997-8b46-91e62f5a735f",
   "metadata": {},
   "source": [
    "### Q-Agent"
   ]
  },
  {
   "cell_type": "code",
   "execution_count": 60,
   "id": "918f2dd0-8886-4723-bb0c-25b9ad6311d2",
   "metadata": {},
   "outputs": [],
   "source": [
    "def Q_move(state,player,info):\n",
    "    Q=info.Q\n",
    "    last_state=info.last_state\n",
    "    last_action=info.last_action\n",
    "    learning=info.learning\n",
    "    \n",
    "    α=info.α  # learning rate\n",
    "    ϵ=info.ϵ  # how often to take a random move\n",
    "    γ=info.γ  # memory constant -- how quickly does the table update back in time (earlier in the game)\n",
    "    \n",
    "    # \\alpha <hit tab>    α\n",
    "    # \\epsilon <hit tab>  ϵ\n",
    "    # \\gamma <hit tab>    γ\n",
    "    \n",
    "    if state not in Q:\n",
    "        actions=valid_moves(state,player)\n",
    "        Q[state]=Table()\n",
    "        for action in actions:\n",
    "            Q[state][action]=0  # initial value of table\n",
    "    \n",
    "    if learning:\n",
    "        if random.random()<ϵ:  # take a random move occasionally to explore the environment\n",
    "            move=random_move(state,player)\n",
    "        else:\n",
    "            move=top_choice(Q[state])\n",
    "    else:\n",
    "        move=top_choice(Q[state])\n",
    "    \n",
    "    if not last_action is None:  # not the first move\n",
    "        reward=0\n",
    "        \n",
    "        # learn\n",
    "        if learning:\n",
    "            Q[last_state][last_action]+=α*(reward +\n",
    "                        γ*max([Q[state][a] for a in Q[state]]) - Q[last_state][last_action])\n",
    "    \n",
    "    return move"
   ]
  },
  {
   "cell_type": "code",
   "execution_count": 62,
   "id": "d27d7dfe-d69c-4036-935a-097cfe860c64",
   "metadata": {},
   "outputs": [],
   "source": [
    "def Q_after(status,player,info):\n",
    "    Q=info.Q\n",
    "    last_state=info.last_state\n",
    "    last_action=info.last_action\n",
    "    learning=info.learning\n",
    "    \n",
    "    α=info.α  # learning rate\n",
    "    ϵ=info.ϵ  # how often to take a random move\n",
    "    γ=info.γ  # memory constant -- how quickly does the table update back in time (earlier in the game)\n",
    "    \n",
    "    # \\alpha <hit tab>    α\n",
    "    # \\epsilon <hit tab>  ϵ\n",
    "    # \\gamma <hit tab>    γ\n",
    "\n",
    "    if status=='lose':\n",
    "        reward=-1\n",
    "    elif status=='win':\n",
    "        reward=1\n",
    "    elif status=='stalemate':\n",
    "        reward=.5 # value stalemate a little closer to a win\n",
    "    else:\n",
    "        reward=0\n",
    "    \n",
    "    \n",
    "    if learning:\n",
    "        Q[last_state][last_action]+=α*(reward - Q[last_state][last_action])"
   ]
  },
  {
   "cell_type": "code",
   "execution_count": 64,
   "id": "35f20727-1580-4b58-9f5d-c94fc26d44a5",
   "metadata": {},
   "outputs": [],
   "source": [
    "Q1_agent=Agent(Q_move)\n",
    "Q1_agent.post=Q_after\n",
    "Q1_agent.Q=Table()  # makes an empty table\n",
    "Q1_agent.learning=True\n",
    "\n",
    "Q1_agent.α=0.8  # learning rate\n",
    "Q1_agent.ϵ=0.5  # how often to take a random move\n",
    "Q1_agent.γ=0.9  # memory constant -- how quickly does the table update back in time (earlier in the game)"
   ]
  },
  {
   "cell_type": "code",
   "execution_count": 67,
   "id": "ea8b2c71-0292-4326-a5cd-1bfdede80126",
   "metadata": {},
   "outputs": [],
   "source": [
    "Q2_agent=Agent(Q_move)\n",
    "Q2_agent.post=Q_after\n",
    "Q2_agent.Q=Table()  # makes an empty table\n",
    "Q2_agent.learning=True\n",
    "\n",
    "Q2_agent.α=0.8  # learning rate\n",
    "Q2_agent.ϵ=0.5  # how often to take a random move\n",
    "Q2_agent.γ=0.9  # memory constant -- how quickly does the table update back in time (earlier in the game)"
   ]
  },
  {
   "cell_type": "markdown",
   "id": "81ed468d-bec8-4b3f-841b-bcde165ee90a",
   "metadata": {},
   "source": [
    "## Load the Previous Tables"
   ]
  },
  {
   "cell_type": "code",
   "execution_count": 28,
   "id": "f8e1aa5c-0f56-49f8-985f-f6417e6b3ba4",
   "metadata": {},
   "outputs": [],
   "source": [
    "skittles_agent1.S=LoadTable(\"connect3_skittles1.json\")\n",
    "skittles_agent2.S=LoadTable(\"connect3_skittles2.json\")"
   ]
  },
  {
   "cell_type": "code",
   "execution_count": 90,
   "id": "004426c1-7dc7-4a57-a1dd-7d9241da8a16",
   "metadata": {},
   "outputs": [],
   "source": [
    "Q1_agent.Q=LoadTable(\"Connect3 Q1.json\")\n",
    "Q2_agent.Q=LoadTable(\"Connect3 Q2.json\")"
   ]
  },
  {
   "cell_type": "markdown",
   "id": "0a773f87-ea78-4217-92cd-a0e3073c1427",
   "metadata": {},
   "source": [
    "## Testing Learning Agents and Minimax"
   ]
  },
  {
   "cell_type": "code",
   "execution_count": 93,
   "id": "c2b76ce9-a7f2-4405-ae26-cae7708e3574",
   "metadata": {},
   "outputs": [],
   "source": [
    "Q1_agent.learning=False\n",
    "Q2_agent.learning=False"
   ]
  },
  {
   "cell_type": "code",
   "execution_count": 94,
   "id": "18f4a780-1f3e-41e4-864e-fac1909998ef",
   "metadata": {},
   "outputs": [
    {
     "name": "stdout",
     "output_type": "stream",
     "text": [
      "Total number of games:  1000\n",
      "Winning 58.90 percent\n",
      "Losing 41.10 percent\n",
      "Tie 0.00 percent\n"
     ]
    }
   ],
   "source": [
    "g=Game(number_of_games=1000)\n",
    "g.display=False\n",
    "result=g.run(minimax_agent,Q2_agent)\n",
    "g.report()"
   ]
  },
  {
   "cell_type": "code",
   "execution_count": 97,
   "id": "31abc244-6c4f-4ae4-8c10-041d090cde65",
   "metadata": {},
   "outputs": [
    {
     "name": "stdout",
     "output_type": "stream",
     "text": [
      "Total number of games:  1000\n",
      "Winning 18.60 percent\n",
      "Losing 81.40 percent\n",
      "Tie 0.00 percent\n"
     ]
    }
   ],
   "source": [
    "g=Game(number_of_games=1000)\n",
    "g.display=False\n",
    "result=g.run(random_agent,minimax_agent)\n",
    "g.report()"
   ]
  },
  {
   "cell_type": "code",
   "execution_count": 98,
   "id": "66fdcaf2-2aa9-40b3-855e-2e7e48fdde3d",
   "metadata": {},
   "outputs": [
    {
     "name": "stdout",
     "output_type": "stream",
     "text": [
      "Total number of games:  1000\n",
      "Winning 5.40 percent\n",
      "Losing 94.60 percent\n",
      "Tie 0.00 percent\n"
     ]
    }
   ],
   "source": [
    "g=Game(number_of_games=1000)\n",
    "g.display=False\n",
    "result=g.run(random_agent,Q2_agent)\n",
    "g.report()"
   ]
  },
  {
   "cell_type": "code",
   "execution_count": 79,
   "id": "763aa0d5-a6fe-4cbc-8266-97dd67beda91",
   "metadata": {},
   "outputs": [],
   "source": [
    "skittles_agent1.learning=False\n",
    "skittles_agent2.learning=False"
   ]
  },
  {
   "cell_type": "code",
   "execution_count": 80,
   "id": "3b0e3a98-569b-4ec9-8ac6-5be59bbf16b9",
   "metadata": {},
   "outputs": [
    {
     "name": "stdout",
     "output_type": "stream",
     "text": [
      "Total number of games:  1000\n",
      "Winning 68.10 percent\n",
      "Losing 31.90 percent\n",
      "Tie 0.00 percent\n"
     ]
    }
   ],
   "source": [
    "g=Game(number_of_games=1000)\n",
    "g.display=False\n",
    "result=g.run(minimax_agent,skittles_agent2)\n",
    "g.report()"
   ]
  },
  {
   "cell_type": "code",
   "execution_count": 81,
   "id": "a20484e0-29d4-4e2f-a939-3fee005c24cf",
   "metadata": {},
   "outputs": [
    {
     "name": "stdout",
     "output_type": "stream",
     "text": [
      "Total number of games:  1000\n",
      "Winning 19.50 percent\n",
      "Losing 80.50 percent\n",
      "Tie 0.00 percent\n"
     ]
    }
   ],
   "source": [
    "g=Game(number_of_games=1000)\n",
    "g.display=False\n",
    "result=g.run(random_agent,minimax_agent)\n",
    "g.report()"
   ]
  },
  {
   "cell_type": "code",
   "execution_count": 82,
   "id": "4bfbdfb3-3770-4292-b85b-d73eb12bdd54",
   "metadata": {},
   "outputs": [
    {
     "name": "stdout",
     "output_type": "stream",
     "text": [
      "Total number of games:  1000\n",
      "Winning 39.50 percent\n",
      "Losing 60.50 percent\n",
      "Tie 0.00 percent\n"
     ]
    }
   ],
   "source": [
    "g=Game(number_of_games=1000)\n",
    "g.display=False\n",
    "result=g.run(random_agent,skittles_agent2)\n",
    "g.report()"
   ]
  },
  {
   "cell_type": "code",
   "execution_count": 110,
   "id": "5aefa8c9-05d1-4c6e-958a-82a94a104040",
   "metadata": {},
   "outputs": [
    {
     "name": "stdout",
     "output_type": "stream",
     "text": [
      "====\n",
      "Game  1\n",
      " 0  0  0  0  0 \n",
      " 0  0  0  0  0 \n",
      " 0  0  0  0  0 \n",
      " 0  0  0  0  0 \n",
      "\n",
      "Player 1 moves 1\n",
      " 0  0  0  0  0 \n",
      " 0  0  0  0  0 \n",
      " 0  0  0  0  0 \n",
      " 0  1  0  0  0 \n",
      "\n"
     ]
    },
    {
     "name": "stdin",
     "output_type": "stream",
     "text": [
      "What is your move?  2\n"
     ]
    },
    {
     "name": "stdout",
     "output_type": "stream",
     "text": [
      "Player 2 moves 2\n",
      " 0  0  0  0  0 \n",
      " 0  0  0  0  0 \n",
      " 0  0  0  0  0 \n",
      " 0  1  2  0  0 \n",
      "\n",
      "Player 1 moves 3\n",
      " 0  0  0  0  0 \n",
      " 0  0  0  0  0 \n",
      " 0  0  0  0  0 \n",
      " 0  1  2  1  0 \n",
      "\n"
     ]
    },
    {
     "name": "stdin",
     "output_type": "stream",
     "text": [
      "What is your move?  2\n"
     ]
    },
    {
     "name": "stdout",
     "output_type": "stream",
     "text": [
      "Player 2 moves 2\n",
      " 0  0  0  0  0 \n",
      " 0  0  0  0  0 \n",
      " 0  0  2  0  0 \n",
      " 0  1  2  1  0 \n",
      "\n",
      "Player 1 moves 2\n",
      " 0  0  0  0  0 \n",
      " 0  0  1  0  0 \n",
      " 0  0  2  0  0 \n",
      " 0  1  2  1  0 \n",
      "\n"
     ]
    },
    {
     "name": "stdin",
     "output_type": "stream",
     "text": [
      "What is your move?  1\n"
     ]
    },
    {
     "name": "stdout",
     "output_type": "stream",
     "text": [
      "Player 2 moves 1\n",
      " 0  0  0  0  0 \n",
      " 0  0  1  0  0 \n",
      " 0  2  2  0  0 \n",
      " 0  1  2  1  0 \n",
      "\n",
      "Player 1 moves 3\n",
      " 0  0  0  0  0 \n",
      " 0  0  1  0  0 \n",
      " 0  2  2  1  0 \n",
      " 0  1  2  1  0 \n",
      "\n"
     ]
    },
    {
     "name": "stdin",
     "output_type": "stream",
     "text": [
      "What is your move?  3\n"
     ]
    },
    {
     "name": "stdout",
     "output_type": "stream",
     "text": [
      "Player 2 moves 3\n",
      " 0  0  0  0  0 \n",
      " 0  0  1  2  0 \n",
      " 0  2  2  1  0 \n",
      " 0  1  2  1  0 \n",
      "\n",
      "Player 1 moves 4\n",
      " 0  0  0  0  0 \n",
      " 0  0  1  2  0 \n",
      " 0  2  2  1  0 \n",
      " 0  1  2  1  1 \n",
      "\n",
      "Player  1 won.\n"
     ]
    },
    {
     "data": {
      "text/plain": [
       "[1]"
      ]
     },
     "execution_count": 110,
     "metadata": {},
     "output_type": "execute_result"
    }
   ],
   "source": [
    "g=Game()\n",
    "g.run(skittles_agent1,human_agent)"
   ]
  },
  {
   "cell_type": "code",
   "execution_count": 115,
   "id": "b7016a25-9635-4b5f-bc1e-9f5e6e033caa",
   "metadata": {},
   "outputs": [
    {
     "name": "stdout",
     "output_type": "stream",
     "text": [
      "====\n",
      "Game  1\n",
      " 0  0  0  0  0 \n",
      " 0  0  0  0  0 \n",
      " 0  0  0  0  0 \n",
      " 0  0  0  0  0 \n",
      "\n"
     ]
    },
    {
     "name": "stdin",
     "output_type": "stream",
     "text": [
      "What is your move?  2\n"
     ]
    },
    {
     "name": "stdout",
     "output_type": "stream",
     "text": [
      "Player 1 moves 2\n",
      " 0  0  0  0  0 \n",
      " 0  0  0  0  0 \n",
      " 0  0  0  0  0 \n",
      " 0  0  1  0  0 \n",
      "\n",
      "Player 2 moves 3\n",
      " 0  0  0  0  0 \n",
      " 0  0  0  0  0 \n",
      " 0  0  0  0  0 \n",
      " 0  0  1  2  0 \n",
      "\n"
     ]
    },
    {
     "name": "stdin",
     "output_type": "stream",
     "text": [
      "What is your move?  1\n"
     ]
    },
    {
     "name": "stdout",
     "output_type": "stream",
     "text": [
      "Player 1 moves 1\n",
      " 0  0  0  0  0 \n",
      " 0  0  0  0  0 \n",
      " 0  0  0  0  0 \n",
      " 0  1  1  2  0 \n",
      "\n",
      "Player 2 moves 0\n",
      " 0  0  0  0  0 \n",
      " 0  0  0  0  0 \n",
      " 0  0  0  0  0 \n",
      " 2  1  1  2  0 \n",
      "\n"
     ]
    },
    {
     "name": "stdin",
     "output_type": "stream",
     "text": [
      "What is your move?  2\n"
     ]
    },
    {
     "name": "stdout",
     "output_type": "stream",
     "text": [
      "Player 1 moves 2\n",
      " 0  0  0  0  0 \n",
      " 0  0  0  0  0 \n",
      " 0  0  1  0  0 \n",
      " 2  1  1  2  0 \n",
      "\n",
      "Player 2 moves 0\n",
      " 0  0  0  0  0 \n",
      " 0  0  0  0  0 \n",
      " 2  0  1  0  0 \n",
      " 2  1  1  2  0 \n",
      "\n"
     ]
    },
    {
     "name": "stdin",
     "output_type": "stream",
     "text": [
      "What is your move?  0\n"
     ]
    },
    {
     "name": "stdout",
     "output_type": "stream",
     "text": [
      "Player 1 moves 0\n",
      " 0  0  0  0  0 \n",
      " 1  0  0  0  0 \n",
      " 2  0  1  0  0 \n",
      " 2  1  1  2  0 \n",
      "\n",
      "Player 2 moves 1\n",
      " 0  0  0  0  0 \n",
      " 1  0  0  0  0 \n",
      " 2  2  1  0  0 \n",
      " 2  1  1  2  0 \n",
      "\n"
     ]
    },
    {
     "name": "stdin",
     "output_type": "stream",
     "text": [
      "What is your move?  2\n"
     ]
    },
    {
     "name": "stdout",
     "output_type": "stream",
     "text": [
      "Player 1 moves 2\n",
      " 0  0  0  0  0 \n",
      " 1  0  1  0  0 \n",
      " 2  2  1  0  0 \n",
      " 2  1  1  2  0 \n",
      "\n",
      "Player  1 won.\n"
     ]
    },
    {
     "data": {
      "text/plain": [
       "[1]"
      ]
     },
     "execution_count": 115,
     "metadata": {},
     "output_type": "execute_result"
    }
   ],
   "source": [
    "g=Game()\n",
    "g.run(human_agent,Q2_agent)"
   ]
  },
  {
   "cell_type": "code",
   "execution_count": null,
   "id": "f123dd76-2d3f-4950-a8bc-1b696df2fc46",
   "metadata": {},
   "outputs": [],
   "source": []
  },
  {
   "cell_type": "code",
   "execution_count": null,
   "id": "36d33cfa-3932-423b-9fef-2b1b80614cc7",
   "metadata": {},
   "outputs": [],
   "source": []
  }
 ],
 "metadata": {
  "kernelspec": {
   "display_name": "Python 3 (ipykernel)",
   "language": "python",
   "name": "python3"
  },
  "language_info": {
   "codemirror_mode": {
    "name": "ipython",
    "version": 3
   },
   "file_extension": ".py",
   "mimetype": "text/x-python",
   "name": "python",
   "nbconvert_exporter": "python",
   "pygments_lexer": "ipython3",
   "version": "3.12.4"
  }
 },
 "nbformat": 4,
 "nbformat_minor": 5
}
